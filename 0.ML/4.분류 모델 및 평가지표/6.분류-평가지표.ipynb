{
 "cells": [
  {
   "cell_type": "markdown",
   "id": "8a9535f0",
   "metadata": {},
   "source": [
    "### Classification Metric\n",
    "* Metric : 학습을 통해 목표를 얼마나 잘(못) 달성했는지를 나타내는 값을 척도(metric)라고 합니다\n",
    "    - Accuracy(정확도)\n",
    "        * 전체 샘플 중 맞게 예측한 샘플 수의 비율\n",
    "    - Recall(재현율)\n",
    "        * 양성 샘플을 양성으로 맞춘 비율과 양성을 음성으로 잘못 예측한 비율\n",
    "        * 실제 음성을 양성으로 잘못 맞춰도 재현율은 떨어지지 않는다\n",
    "    - Precision(정밀도)\n",
    "        * 양성이라고 예측한 값의 비례하는 실제 값이 양성인 비율\n",
    "        * 음성을 양성으로 잘못 판단하면 정밀도는 떨어진다\n",
    "    - F1 - score\n",
    "        * Reacll과 Precision의 조화평균"
   ]
  },
  {
   "cell_type": "markdown",
   "id": "c8e1db2f",
   "metadata": {},
   "source": [
    "* 평가 지표 선택\n",
    "* Accuracy(정확도) : label 값이 균등할 경우\n",
    "* F1 - score : label 값이 불균등할 경우"
   ]
  },
  {
   "cell_type": "markdown",
   "id": "d116a0cf",
   "metadata": {},
   "source": [
    "* accuracy(정확도)"
   ]
  },
  {
   "cell_type": "code",
   "execution_count": 2,
   "id": "a8bd630e",
   "metadata": {},
   "outputs": [],
   "source": [
    "y_test = [0,1,1,0,0,0,1,1,1,1] #실제 정답\n",
    "y_pred = [1,0,0,0,0,0,1,1,1,1]  #예측 정답"
   ]
  },
  {
   "cell_type": "code",
   "execution_count": 3,
   "id": "1dc80699",
   "metadata": {},
   "outputs": [
    {
     "data": {
      "text/plain": [
       "0.7"
      ]
     },
     "execution_count": 3,
     "metadata": {},
     "output_type": "execute_result"
    }
   ],
   "source": [
    "from sklearn.metrics import accuracy_score\n",
    "accuracy_score( y_test, y_pred )"
   ]
  },
  {
   "cell_type": "markdown",
   "id": "bb46c161",
   "metadata": {},
   "source": [
    "* 1: 암, 0: 정상"
   ]
  },
  {
   "cell_type": "code",
   "execution_count": 4,
   "id": "ff529b52",
   "metadata": {},
   "outputs": [],
   "source": [
    "y_test = [1,1,0,1,1,1,1,1,1,1] #실제 정답\n",
    "y_pred = [0,1,1,1,1,1,1,1,1,1] #예측 정답"
   ]
  },
  {
   "cell_type": "code",
   "execution_count": 5,
   "id": "1a95f1dd",
   "metadata": {},
   "outputs": [
    {
     "data": {
      "text/plain": [
       "0.8"
      ]
     },
     "execution_count": 5,
     "metadata": {},
     "output_type": "execute_result"
    }
   ],
   "source": [
    "accuracy_score( y_test, y_pred )"
   ]
  },
  {
   "cell_type": "markdown",
   "id": "7be15b62",
   "metadata": {},
   "source": [
    "####  recall(재현율)\n",
    "* 양성(1)이 중요한 경우"
   ]
  },
  {
   "cell_type": "code",
   "execution_count": 6,
   "id": "46896e66",
   "metadata": {},
   "outputs": [],
   "source": [
    "y_test = [0,0,0,1,1,1,1,1,1,1] #실제 정답\n",
    "y_pred = [1,1,1,1,1,1,1,1,1,1] #예측 정답"
   ]
  },
  {
   "cell_type": "code",
   "execution_count": 8,
   "id": "f862787f",
   "metadata": {},
   "outputs": [
    {
     "data": {
      "text/plain": [
       "1.0"
      ]
     },
     "execution_count": 8,
     "metadata": {},
     "output_type": "execute_result"
    }
   ],
   "source": [
    "from sklearn.metrics import recall_score\n",
    "recall_score( y_test, y_pred)"
   ]
  },
  {
   "cell_type": "code",
   "execution_count": 9,
   "id": "7d478e90",
   "metadata": {},
   "outputs": [],
   "source": [
    "y_test = [1,1,1,1,1,1,1,1,1,1] #실제 정답\n",
    "y_pred = [0,0,0,1,1,1,1,1,1,1] #예측 정답"
   ]
  },
  {
   "cell_type": "code",
   "execution_count": 10,
   "id": "39a4f25b",
   "metadata": {},
   "outputs": [
    {
     "data": {
      "text/plain": [
       "0.7"
      ]
     },
     "execution_count": 10,
     "metadata": {},
     "output_type": "execute_result"
    }
   ],
   "source": [
    "recall_score( y_test, y_pred)"
   ]
  },
  {
   "cell_type": "markdown",
   "id": "1f31a69d",
   "metadata": {},
   "source": [
    "* 1: 스팸메일, 0: 정상"
   ]
  },
  {
   "cell_type": "code",
   "execution_count": 11,
   "id": "96efdfae",
   "metadata": {},
   "outputs": [
    {
     "data": {
      "text/plain": [
       "0.7"
      ]
     },
     "execution_count": 11,
     "metadata": {},
     "output_type": "execute_result"
    }
   ],
   "source": [
    "y_test = [1,1,1,1,1,1,1,1,1,1] #실제 정답\n",
    "y_pred = [0,0,0,1,1,1,1,1,1,1] #예측 정답\n",
    "recall_score( y_test, y_pred )"
   ]
  },
  {
   "cell_type": "code",
   "execution_count": 12,
   "id": "4c5fe68b",
   "metadata": {},
   "outputs": [
    {
     "data": {
      "text/plain": [
       "1.0"
      ]
     },
     "execution_count": 12,
     "metadata": {},
     "output_type": "execute_result"
    }
   ],
   "source": [
    "y_test = [0,0,0,1,1,1,1,1,1,1] #실제 정답\n",
    "y_pred = [1,1,1,1,1,1,1,1,1,1] #예측 정답\n",
    "recall_score( y_test, y_pred )"
   ]
  },
  {
   "cell_type": "markdown",
   "id": "457e401c",
   "metadata": {},
   "source": [
    "* precision (정밀도)\n",
    "- 실제 음성을 못 맞추는 경우\n",
    "- 0이 중요한 경우"
   ]
  },
  {
   "cell_type": "code",
   "execution_count": 14,
   "id": "6d35b6cf",
   "metadata": {},
   "outputs": [],
   "source": [
    "y_test = [1,1,1,1,1,1,1,1,1,1] #실제 정답\n",
    "y_pred = [0,0,0,1,1,1,1,1,1,1] #예측 정답"
   ]
  },
  {
   "cell_type": "code",
   "execution_count": 15,
   "id": "b983c44f",
   "metadata": {},
   "outputs": [
    {
     "data": {
      "text/plain": [
       "1.0"
      ]
     },
     "execution_count": 15,
     "metadata": {},
     "output_type": "execute_result"
    }
   ],
   "source": [
    "from sklearn.metrics import precision_score\n",
    "precision_score(y_test, y_pred)"
   ]
  },
  {
   "cell_type": "code",
   "execution_count": 16,
   "id": "ec1ea7bb",
   "metadata": {},
   "outputs": [
    {
     "data": {
      "text/plain": [
       "0.7"
      ]
     },
     "execution_count": 16,
     "metadata": {},
     "output_type": "execute_result"
    }
   ],
   "source": [
    "y_test = [0,0,0,1,1,1,1,1,1,1] #실제 정답\n",
    "y_pred = [1,1,1,1,1,1,1,1,1,1] #예측 정답\n",
    "precision_score( y_test, y_pred)"
   ]
  },
  {
   "cell_type": "markdown",
   "id": "27b9409b",
   "metadata": {},
   "source": [
    "* f1_score\n",
    "    - 정밀도와 재현율의 조화 평균\n",
    "    - label 값이 불균등할 경우 사용"
   ]
  },
  {
   "cell_type": "code",
   "execution_count": 17,
   "id": "89385faf",
   "metadata": {},
   "outputs": [],
   "source": [
    "y_test = [0,0,1,1,1,1,1,1,1,1] #실제 정답\n",
    "y_pred = [1,1,1,1,1,1,1,1,1,1] #예측 정답"
   ]
  },
  {
   "cell_type": "code",
   "execution_count": 20,
   "id": "c6ae35c5",
   "metadata": {},
   "outputs": [
    {
     "name": "stdout",
     "output_type": "stream",
     "text": [
      "정확도: 0.8\n",
      "재현율(recall): 1.0\n",
      "정밀도(precision): 0.8\n",
      "f1: 0.888888888888889\n"
     ]
    }
   ],
   "source": [
    "from sklearn.metrics import f1_score\n",
    "accuracy = accuracy_score( y_test, y_pred )\n",
    "recall = recall_score( y_test, y_pred )\n",
    "precision = precision_score( y_test, y_pred )\n",
    "f1 = f1_score( y_test, y_pred )\n",
    "\n",
    "print(\"정확도:\", accuracy)\n",
    "print(\"재현율(recall):\", recall)\n",
    "print(\"정밀도(precision):\", precision)\n",
    "print(\"f1:\", f1)"
   ]
  }
 ],
 "metadata": {
  "kernelspec": {
   "display_name": "Python 3 (ipykernel)",
   "language": "python",
   "name": "python3"
  },
  "language_info": {
   "codemirror_mode": {
    "name": "ipython",
    "version": 3
   },
   "file_extension": ".py",
   "mimetype": "text/x-python",
   "name": "python",
   "nbconvert_exporter": "python",
   "pygments_lexer": "ipython3",
   "version": "3.11.4"
  }
 },
 "nbformat": 4,
 "nbformat_minor": 5
}
