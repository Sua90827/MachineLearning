{
 "cells": [
  {
   "cell_type": "markdown",
   "id": "e8cd45b2",
   "metadata": {},
   "source": [
    "### 시나리오\n",
    "* 수산물 시장에서 알바를 하기로 결심\n",
    "* 물고기의 기본 무게와 길이를 제어주는 기계는 존재한다.\n",
    "* 물고기의 특징을 보고 물고기의 종류를 구분해야 한다\n",
    "* 귀차니즘이 발동한 나는 자동으로 물고기를 구분해 주는 프로그램을 구현하기로 했다"
   ]
  },
  {
   "cell_type": "markdown",
   "id": "44628d09",
   "metadata": {},
   "source": [
    "### 물고기 종류 분류하기\n",
    "* 컬럼\n",
    "    - Species : 물고기 이름\n",
    "    - weight : 두께\n",
    "    - length : 길이\n",
    "    - Diagonal : 대각선 길이\n",
    "    - Height : 세로 길이\n",
    "    - Width : 가로 길이"
   ]
  },
  {
   "cell_type": "markdown",
   "id": "62732b5b",
   "metadata": {},
   "source": [
    "### 데이터 읽기"
   ]
  },
  {
   "cell_type": "code",
   "execution_count": 2,
   "id": "61e9ff67",
   "metadata": {},
   "outputs": [],
   "source": [
    "import pandas as pd\n",
    "import warnings\n",
    "warnings.filterwarnings(\"ignore\")"
   ]
  },
  {
   "cell_type": "code",
   "execution_count": 3,
   "id": "d15fe6fb",
   "metadata": {},
   "outputs": [
    {
     "data": {
      "text/html": [
       "<div>\n",
       "<style scoped>\n",
       "    .dataframe tbody tr th:only-of-type {\n",
       "        vertical-align: middle;\n",
       "    }\n",
       "\n",
       "    .dataframe tbody tr th {\n",
       "        vertical-align: top;\n",
       "    }\n",
       "\n",
       "    .dataframe thead th {\n",
       "        text-align: right;\n",
       "    }\n",
       "</style>\n",
       "<table border=\"1\" class=\"dataframe\">\n",
       "  <thead>\n",
       "    <tr style=\"text-align: right;\">\n",
       "      <th></th>\n",
       "      <th>Species</th>\n",
       "      <th>Weight</th>\n",
       "      <th>Length</th>\n",
       "      <th>Diagonal</th>\n",
       "      <th>Height</th>\n",
       "      <th>Width</th>\n",
       "    </tr>\n",
       "  </thead>\n",
       "  <tbody>\n",
       "    <tr>\n",
       "      <th>0</th>\n",
       "      <td>Bream</td>\n",
       "      <td>242.0</td>\n",
       "      <td>25.4</td>\n",
       "      <td>30.0</td>\n",
       "      <td>11.5200</td>\n",
       "      <td>4.0200</td>\n",
       "    </tr>\n",
       "    <tr>\n",
       "      <th>1</th>\n",
       "      <td>Bream</td>\n",
       "      <td>290.0</td>\n",
       "      <td>26.3</td>\n",
       "      <td>31.2</td>\n",
       "      <td>12.4800</td>\n",
       "      <td>4.3056</td>\n",
       "    </tr>\n",
       "    <tr>\n",
       "      <th>2</th>\n",
       "      <td>Bream</td>\n",
       "      <td>340.0</td>\n",
       "      <td>26.5</td>\n",
       "      <td>31.1</td>\n",
       "      <td>12.3778</td>\n",
       "      <td>4.6961</td>\n",
       "    </tr>\n",
       "    <tr>\n",
       "      <th>3</th>\n",
       "      <td>Bream</td>\n",
       "      <td>363.0</td>\n",
       "      <td>29.0</td>\n",
       "      <td>33.5</td>\n",
       "      <td>12.7300</td>\n",
       "      <td>4.4555</td>\n",
       "    </tr>\n",
       "    <tr>\n",
       "      <th>4</th>\n",
       "      <td>Bream</td>\n",
       "      <td>430.0</td>\n",
       "      <td>29.0</td>\n",
       "      <td>34.0</td>\n",
       "      <td>12.4440</td>\n",
       "      <td>5.1340</td>\n",
       "    </tr>\n",
       "  </tbody>\n",
       "</table>\n",
       "</div>"
      ],
      "text/plain": [
       "  Species  Weight  Length  Diagonal   Height   Width\n",
       "0   Bream   242.0    25.4      30.0  11.5200  4.0200\n",
       "1   Bream   290.0    26.3      31.2  12.4800  4.3056\n",
       "2   Bream   340.0    26.5      31.1  12.3778  4.6961\n",
       "3   Bream   363.0    29.0      33.5  12.7300  4.4555\n",
       "4   Bream   430.0    29.0      34.0  12.4440  5.1340"
      ]
     },
     "execution_count": 3,
     "metadata": {},
     "output_type": "execute_result"
    }
   ],
   "source": [
    "df = pd.read_csv('data/fish.csv')\n",
    "df.head()"
   ]
  },
  {
   "cell_type": "code",
   "execution_count": 4,
   "id": "1d25be88",
   "metadata": {},
   "outputs": [
    {
     "data": {
      "text/plain": [
       "array(['Bream', 'Roach', 'Whitefish', 'Parkki', 'Perch', 'Pike', 'Smelt'],\n",
       "      dtype=object)"
      ]
     },
     "execution_count": 4,
     "metadata": {},
     "output_type": "execute_result"
    }
   ],
   "source": [
    "df['Species'].unique()"
   ]
  },
  {
   "cell_type": "code",
   "execution_count": 5,
   "id": "c700c735",
   "metadata": {},
   "outputs": [
    {
     "data": {
      "text/plain": [
       "Index(['Species', 'Weight', 'Length', 'Diagonal', 'Height', 'Width'], dtype='object')"
      ]
     },
     "execution_count": 5,
     "metadata": {},
     "output_type": "execute_result"
    }
   ],
   "source": [
    "df.columns"
   ]
  },
  {
   "cell_type": "code",
   "execution_count": 6,
   "id": "7ced7de5",
   "metadata": {},
   "outputs": [
    {
     "data": {
      "text/plain": [
       "(     Weight  Length  Diagonal   Height   Width\n",
       " 0     242.0    25.4      30.0  11.5200  4.0200\n",
       " 1     290.0    26.3      31.2  12.4800  4.3056\n",
       " 2     340.0    26.5      31.1  12.3778  4.6961\n",
       " 3     363.0    29.0      33.5  12.7300  4.4555\n",
       " 4     430.0    29.0      34.0  12.4440  5.1340\n",
       " ..      ...     ...       ...      ...     ...\n",
       " 154    12.2    12.2      13.4   2.0904  1.3936\n",
       " 155    13.4    12.4      13.5   2.4300  1.2690\n",
       " 156    12.2    13.0      13.8   2.2770  1.2558\n",
       " 157    19.7    14.3      15.2   2.8728  2.0672\n",
       " 158    19.9    15.0      16.2   2.9322  1.8792\n",
       " \n",
       " [159 rows x 5 columns],\n",
       " 0      Bream\n",
       " 1      Bream\n",
       " 2      Bream\n",
       " 3      Bream\n",
       " 4      Bream\n",
       "        ...  \n",
       " 154    Smelt\n",
       " 155    Smelt\n",
       " 156    Smelt\n",
       " 157    Smelt\n",
       " 158    Smelt\n",
       " Name: Species, Length: 159, dtype: object)"
      ]
     },
     "execution_count": 6,
     "metadata": {},
     "output_type": "execute_result"
    }
   ],
   "source": [
    "features = ['Weight', 'Length', 'Diagonal', 'Height', 'Width']\n",
    "label = 'Species'\n",
    "\n",
    "X , y = df[features], df[label]\n",
    "X, y"
   ]
  },
  {
   "cell_type": "markdown",
   "id": "59611b55",
   "metadata": {},
   "source": [
    "### train_test_split\n",
    "* test데이터 : 30%\n",
    "* train 데이터 : 70%"
   ]
  },
  {
   "cell_type": "code",
   "execution_count": 8,
   "id": "70417e39",
   "metadata": {},
   "outputs": [],
   "source": [
    "from sklearn.model_selection import train_test_split\n",
    "\n",
    "X_train, X_test, y_train, y_test =\\\n",
    "        train_test_split( X, y, test_size=0.3 )"
   ]
  },
  {
   "cell_type": "code",
   "execution_count": 9,
   "id": "6aacbe0e",
   "metadata": {},
   "outputs": [
    {
     "name": "stdout",
     "output_type": "stream",
     "text": [
      "총 개수 :  (159, 5) (159,)\n",
      "학습용(train) :  (111, 5) (111,)\n",
      "확인용(test) :  (48, 5) (48,)\n"
     ]
    }
   ],
   "source": [
    "print('총 개수 : ', X.shape, y.shape)\n",
    "print('학습용(train) : ',X_train.shape, y_train.shape )\n",
    "print('확인용(test) : ',X_test.shape, y_test.shape )"
   ]
  },
  {
   "cell_type": "markdown",
   "id": "18a8f7ec",
   "metadata": {},
   "source": [
    "### 모델 생성 및 학습, 평가\n",
    "\n",
    "#### Kneighbors(k-최근접 이웃 알고리즘)\n",
    "* 주위의 가장 가까운 다른 데이터를 보고 현재 데이터를 판단"
   ]
  },
  {
   "cell_type": "markdown",
   "id": "6068b1ef",
   "metadata": {},
   "source": [
    "![image.png](image/kneighbors.png)"
   ]
  },
  {
   "cell_type": "code",
   "execution_count": 11,
   "id": "99209081",
   "metadata": {},
   "outputs": [
    {
     "data": {
      "text/plain": [
       "KNeighborsClassifier()"
      ]
     },
     "execution_count": 11,
     "metadata": {},
     "output_type": "execute_result"
    }
   ],
   "source": [
    "from sklearn.neighbors import KNeighborsClassifier\n",
    "#모델 생성\n",
    "kn = KNeighborsClassifier()\n",
    "#학습. 속성과 정답(70%)\n",
    "kn.fit( X_train, y_train )"
   ]
  },
  {
   "cell_type": "code",
   "execution_count": 12,
   "id": "adde161e",
   "metadata": {
    "collapsed": true
   },
   "outputs": [
    {
     "data": {
      "text/plain": [
       "array(['Perch', 'Smelt', 'Perch', 'Smelt', 'Perch', 'Smelt', 'Perch',\n",
       "       'Perch', 'Smelt', 'Bream', 'Bream', 'Bream', 'Perch', 'Perch',\n",
       "       'Perch', 'Bream', 'Bream', 'Pike', 'Bream', 'Perch', 'Bream',\n",
       "       'Parkki', 'Bream', 'Bream', 'Smelt', 'Perch', 'Perch', 'Bream',\n",
       "       'Perch', 'Bream', 'Roach', 'Perch', 'Smelt', 'Bream', 'Smelt',\n",
       "       'Smelt', 'Perch', 'Perch', 'Perch', 'Roach', 'Bream', 'Perch',\n",
       "       'Perch', 'Smelt', 'Smelt', 'Bream', 'Smelt', 'Bream'], dtype=object)"
      ]
     },
     "execution_count": 12,
     "metadata": {},
     "output_type": "execute_result"
    }
   ],
   "source": [
    "# 예측 정답을 알려준다. 확인용 속성을 넣어줌(30%)\n",
    "pred = kn.predict( X_test )\n",
    "pred"
   ]
  },
  {
   "cell_type": "code",
   "execution_count": 13,
   "id": "7b8b7197",
   "metadata": {},
   "outputs": [
    {
     "data": {
      "text/plain": [
       "0.4583333333333333"
      ]
     },
     "execution_count": 13,
     "metadata": {},
     "output_type": "execute_result"
    }
   ],
   "source": [
    "from sklearn.metrics import accuracy_score\n",
    "# 실제 정답과 예측 정답을 넣어주면 정확도를 알려준다\n",
    "accuracy_score(y_test, pred)"
   ]
  },
  {
   "cell_type": "code",
   "execution_count": 14,
   "id": "4687e8b4",
   "metadata": {},
   "outputs": [
    {
     "data": {
      "text/plain": [
       "0.4583333333333333"
      ]
     },
     "execution_count": 14,
     "metadata": {},
     "output_type": "execute_result"
    }
   ],
   "source": [
    "kn.score( X_test, y_test )"
   ]
  },
  {
   "cell_type": "markdown",
   "id": "04bc0e12",
   "metadata": {},
   "source": [
    "#### svm(Supprot Vector Machine)\n",
    "* 특정 데이터들을 구분하는 선을 찾고, 이를 기반으로 패턴을 인식\n",
    "* kernel : linear(선형), rbf(비선형)"
   ]
  },
  {
   "cell_type": "markdown",
   "id": "4a3c1185",
   "metadata": {},
   "source": [
    "![img](image/svm.png)"
   ]
  },
  {
   "cell_type": "markdown",
   "id": "d4c7278f",
   "metadata": {},
   "source": [
    "##### linear(선형 모델)"
   ]
  },
  {
   "cell_type": "code",
   "execution_count": 18,
   "id": "b383fcac",
   "metadata": {},
   "outputs": [
    {
     "data": {
      "text/plain": [
       "0.9583333333333334"
      ]
     },
     "execution_count": 18,
     "metadata": {},
     "output_type": "execute_result"
    }
   ],
   "source": [
    "import sklearn.svm as svm\n",
    "svm_linear = svm.SVC(kernel='linear')\n",
    "svm_linear.fit( X_train, y_train )\n",
    "svm_linear.score( X_test, y_test )"
   ]
  },
  {
   "cell_type": "markdown",
   "id": "0d743f9a",
   "metadata": {},
   "source": [
    "##### rbf(비선형 모델)"
   ]
  },
  {
   "cell_type": "code",
   "execution_count": 19,
   "id": "18756551",
   "metadata": {},
   "outputs": [
    {
     "data": {
      "text/plain": [
       "0.3958333333333333"
      ]
     },
     "execution_count": 19,
     "metadata": {},
     "output_type": "execute_result"
    }
   ],
   "source": [
    "svm_rbf = svm.SVC(kernel='rbf')\n",
    "svm_rbf.fit( X_train, y_train )\n",
    "svm_rbf.score( X_test, y_test )"
   ]
  },
  {
   "cell_type": "markdown",
   "id": "727a7f37",
   "metadata": {},
   "source": [
    "#### DecisionTree\n",
    "* 특정 조건에 따라 가지치기 과정을 반복하면서 모델을 생성"
   ]
  },
  {
   "cell_type": "markdown",
   "id": "9d450f31",
   "metadata": {},
   "source": [
    "![img](image/tree.png)"
   ]
  },
  {
   "cell_type": "code",
   "execution_count": 20,
   "id": "6b4d948d",
   "metadata": {},
   "outputs": [
    {
     "data": {
      "text/plain": [
       "0.7708333333333334"
      ]
     },
     "execution_count": 20,
     "metadata": {},
     "output_type": "execute_result"
    }
   ],
   "source": [
    "from sklearn.tree import DecisionTreeClassifier\n",
    "dt_clf = DecisionTreeClassifier()\n",
    "dt_clf.fit( X_train, y_train)\n",
    "dt_clf.score( X_test, y_test )"
   ]
  },
  {
   "cell_type": "markdown",
   "id": "7746104f",
   "metadata": {},
   "source": [
    "#### Ensemble(앙상블)\n",
    "* 여러 개의 분류기(알고리즘)을 생성하고 예측"
   ]
  },
  {
   "cell_type": "markdown",
   "id": "1939a575",
   "metadata": {},
   "source": [
    "##### 보팅(Voting)\n",
    "* 서로 다른 알고리즘을 가진 분류기를 결합\n",
    "* 하드보팅(Hard Voting) : 다수의 결정에 의해 결과값이 선정\n",
    "* 소프트 보팅(Soft Voting) : 결정된 값들의 평균을 구하고 가장 높은 값 선정\n",
    "* 일반적으로 소프트 보팅 선호"
   ]
  },
  {
   "cell_type": "markdown",
   "id": "2c3b097b",
   "metadata": {},
   "source": [
    "![img](image/보팅.png)"
   ]
  },
  {
   "cell_type": "code",
   "execution_count": 21,
   "id": "a92a3443",
   "metadata": {},
   "outputs": [
    {
     "data": {
      "text/plain": [
       "DecisionTreeClassifier()"
      ]
     },
     "execution_count": 21,
     "metadata": {},
     "output_type": "execute_result"
    }
   ],
   "source": [
    "# probability : 소프트 보팅시 확률로 보겠다는 의미\n",
    "# 기본 False 값이다\n",
    "svm_rbf = svm.SVC(kernel='rbf', probability=True)\n",
    "svm_rbf.fit(X_train, y_train)\n",
    "\n",
    "kn = KNeighborsClassifier();\n",
    "kn.fit( X_train, y_train)\n",
    "\n",
    "dt_clf = DecisionTreeClassifier()\n",
    "dt_clf.fit( X_train, y_train )"
   ]
  },
  {
   "cell_type": "code",
   "execution_count": 23,
   "id": "ebccfc2d",
   "metadata": {},
   "outputs": [
    {
     "name": "stdout",
     "output_type": "stream",
     "text": [
      "svm :  0.3958333333333333\n",
      "kn :  0.4583333333333333\n",
      "dt_clf :  0.7916666666666666\n",
      "voting :  0.625\n"
     ]
    }
   ],
   "source": [
    "from sklearn.ensemble import VotingClassifier\n",
    "\n",
    "vo = VotingClassifier(estimators=[(\"svc\", svm_rbf),\n",
    "                                (\"knn\", kn),\n",
    "                                 (\"DecisionTree\", dt_clf)] ,\n",
    "                                 voting=\"soft\" )\n",
    "vo.fit( X_train, y_train)\n",
    "\n",
    "print(\"svm : \", svm_rbf.score(X_test, y_test) )\n",
    "print(\"kn : \", kn.score(X_test, y_test) )\n",
    "print(\"dt_clf : \", dt_clf.score(X_test, y_test) )\n",
    "print(\"voting : \", vo.score(X_test, y_test) )"
   ]
  },
  {
   "cell_type": "markdown",
   "id": "f876207c",
   "metadata": {},
   "source": [
    "#### 앙상블 - 배깅(Bagging)\n",
    "* 같은 알고리즘으로 하나의 알고리즘을 만드는 것\n",
    "* 랜덤포레스트 : decision tree 알고리즘을 여러 개의 분류기로 만들어 소프트 보팅\n"
   ]
  },
  {
   "cell_type": "markdown",
   "id": "923b3eb0",
   "metadata": {},
   "source": [
    "![img](image/bagging.png)"
   ]
  },
  {
   "cell_type": "code",
   "execution_count": 24,
   "id": "98cb5fe7",
   "metadata": {},
   "outputs": [
    {
     "data": {
      "text/plain": [
       "0.8125"
      ]
     },
     "execution_count": 24,
     "metadata": {},
     "output_type": "execute_result"
    }
   ],
   "source": [
    "from sklearn.ensemble import RandomForestClassifier\n",
    "\n",
    "rfc = RandomForestClassifier()\n",
    "rfc.fit( X_train, y_train )\n",
    "rfc.score( X_test, y_test )"
   ]
  },
  {
   "cell_type": "markdown",
   "id": "2fa19f07",
   "metadata": {},
   "source": [
    "#### 앙상블 - 부스팅(Boosting)\n",
    "* GBM(Gradient Boosting Machine)\n",
    "* decision tree를 묶어 만드는 앙상블 기법\n",
    "* 오류를 개선하는 방식\n",
    "* 다른 알고리즘에 비해 시간이 오래 걸림"
   ]
  },
  {
   "cell_type": "markdown",
   "id": "629986e2",
   "metadata": {},
   "source": [
    "![img](image/GBM.png)"
   ]
  },
  {
   "cell_type": "code",
   "execution_count": 25,
   "id": "54462070",
   "metadata": {},
   "outputs": [
    {
     "data": {
      "text/plain": [
       "0.7083333333333334"
      ]
     },
     "execution_count": 25,
     "metadata": {},
     "output_type": "execute_result"
    }
   ],
   "source": [
    "from sklearn.ensemble import GradientBoostingClassifier\n",
    "gbc = GradientBoostingClassifier()\n",
    "gbc.fit( X_train, y_train )\n",
    "gbc.score( X_test, y_test )"
   ]
  },
  {
   "cell_type": "code",
   "execution_count": 26,
   "id": "9ab817b6",
   "metadata": {},
   "outputs": [
    {
     "data": {
      "text/html": [
       "<div>\n",
       "<style scoped>\n",
       "    .dataframe tbody tr th:only-of-type {\n",
       "        vertical-align: middle;\n",
       "    }\n",
       "\n",
       "    .dataframe tbody tr th {\n",
       "        vertical-align: top;\n",
       "    }\n",
       "\n",
       "    .dataframe thead th {\n",
       "        text-align: right;\n",
       "    }\n",
       "</style>\n",
       "<table border=\"1\" class=\"dataframe\">\n",
       "  <thead>\n",
       "    <tr style=\"text-align: right;\">\n",
       "      <th></th>\n",
       "      <th>Species</th>\n",
       "      <th>Weight</th>\n",
       "      <th>Length</th>\n",
       "      <th>Diagonal</th>\n",
       "      <th>Height</th>\n",
       "      <th>Width</th>\n",
       "    </tr>\n",
       "  </thead>\n",
       "  <tbody>\n",
       "    <tr>\n",
       "      <th>0</th>\n",
       "      <td>Bream</td>\n",
       "      <td>242.0</td>\n",
       "      <td>25.4</td>\n",
       "      <td>30.0</td>\n",
       "      <td>11.5200</td>\n",
       "      <td>4.0200</td>\n",
       "    </tr>\n",
       "    <tr>\n",
       "      <th>1</th>\n",
       "      <td>Bream</td>\n",
       "      <td>290.0</td>\n",
       "      <td>26.3</td>\n",
       "      <td>31.2</td>\n",
       "      <td>12.4800</td>\n",
       "      <td>4.3056</td>\n",
       "    </tr>\n",
       "    <tr>\n",
       "      <th>2</th>\n",
       "      <td>Bream</td>\n",
       "      <td>340.0</td>\n",
       "      <td>26.5</td>\n",
       "      <td>31.1</td>\n",
       "      <td>12.3778</td>\n",
       "      <td>4.6961</td>\n",
       "    </tr>\n",
       "  </tbody>\n",
       "</table>\n",
       "</div>"
      ],
      "text/plain": [
       "  Species  Weight  Length  Diagonal   Height   Width\n",
       "0   Bream   242.0    25.4      30.0  11.5200  4.0200\n",
       "1   Bream   290.0    26.3      31.2  12.4800  4.3056\n",
       "2   Bream   340.0    26.5      31.1  12.3778  4.6961"
      ]
     },
     "execution_count": 26,
     "metadata": {},
     "output_type": "execute_result"
    }
   ],
   "source": [
    "df.head(3)"
   ]
  },
  {
   "cell_type": "code",
   "execution_count": 27,
   "id": "6cd41806",
   "metadata": {},
   "outputs": [
    {
     "data": {
      "text/plain": [
       "array(['Bream'], dtype=object)"
      ]
     },
     "execution_count": 27,
     "metadata": {},
     "output_type": "execute_result"
    }
   ],
   "source": [
    "data = [[242.0, 25.4,30.0, 11.5200, 4.0200]]\n",
    "rfc.predict( data )"
   ]
  },
  {
   "cell_type": "code",
   "execution_count": 28,
   "id": "937f9bc1",
   "metadata": {},
   "outputs": [
    {
     "data": {
      "text/plain": [
       "array(['Bream'], dtype=object)"
      ]
     },
     "execution_count": 28,
     "metadata": {},
     "output_type": "execute_result"
    }
   ],
   "source": [
    "data = [[290.0,26.3,31.2,12.4800,4.3056]]\n",
    "rfc.predict( data )"
   ]
  },
  {
   "cell_type": "code",
   "execution_count": null,
   "id": "54c60d31",
   "metadata": {},
   "outputs": [],
   "source": []
  },
  {
   "cell_type": "code",
   "execution_count": null,
   "id": "aebecb23",
   "metadata": {},
   "outputs": [],
   "source": []
  },
  {
   "cell_type": "code",
   "execution_count": null,
   "id": "776e1f49",
   "metadata": {},
   "outputs": [],
   "source": []
  },
  {
   "cell_type": "code",
   "execution_count": null,
   "id": "078c7046",
   "metadata": {},
   "outputs": [],
   "source": []
  },
  {
   "cell_type": "code",
   "execution_count": null,
   "id": "8b26f040",
   "metadata": {},
   "outputs": [],
   "source": []
  },
  {
   "cell_type": "code",
   "execution_count": null,
   "id": "b384bccf",
   "metadata": {},
   "outputs": [],
   "source": []
  },
  {
   "cell_type": "code",
   "execution_count": null,
   "id": "5f286758",
   "metadata": {},
   "outputs": [],
   "source": []
  }
 ],
 "metadata": {
  "kernelspec": {
   "display_name": "Python 3 (ipykernel)",
   "language": "python",
   "name": "python3"
  },
  "language_info": {
   "codemirror_mode": {
    "name": "ipython",
    "version": 3
   },
   "file_extension": ".py",
   "mimetype": "text/x-python",
   "name": "python",
   "nbconvert_exporter": "python",
   "pygments_lexer": "ipython3",
   "version": "3.9.13"
  },
  "toc": {
   "base_numbering": 1,
   "nav_menu": {},
   "number_sections": true,
   "sideBar": true,
   "skip_h1_title": false,
   "title_cell": "Table of Contents",
   "title_sidebar": "Contents",
   "toc_cell": false,
   "toc_position": {},
   "toc_section_display": true,
   "toc_window_display": false
  }
 },
 "nbformat": 4,
 "nbformat_minor": 5
}
