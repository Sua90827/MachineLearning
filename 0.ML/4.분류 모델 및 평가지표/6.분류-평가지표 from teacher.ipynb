{
 "cells": [
  {
   "cell_type": "markdown",
   "id": "beca2bbc",
   "metadata": {},
   "source": [
    "### Classification Metric\n",
    "* Metric : 학습을 통해 목표를 얼마나 잘(못) 달성했는지를 나타내는 값을 척도(metric)라고 합니다\n",
    "    - Accuracy(정확도)\n",
    "        * 전체 샘플 중 맞게 예측한 샘플 수의 비율\n",
    "    - Recall(재현율)\n",
    "        * 양성 샘플을 양성으로 맞춘 비율과 양성을 음성으로 잘못 예측한 비율\n",
    "        * 실제 음성을 양성으로 잘못 맞춰도 재현율은 떨어지지 않는다\n",
    "    - Precision(정밀도)\n",
    "        * 양성이라고 예측한 값의 비례하는 실제 값이 양성인 비율\n",
    "        * 음성을 양성으로 잘못 판단하면 정밀도는 떨어진다\n",
    "    - F1 - score\n",
    "        * Reacll과 Precision의 조화평균"
   ]
  },
  {
   "cell_type": "markdown",
   "id": "0147d8a2",
   "metadata": {},
   "source": [
    "* 평가 지표 선택\n",
    "* Accuracy(정확도) : label 값이 균등할 경우\n",
    "* F1 - score : label 값이 불 균등할 경우"
   ]
  },
  {
   "cell_type": "markdown",
   "id": "d5eb8ee0",
   "metadata": {},
   "source": [
    "* accuracy(정확도)"
   ]
  },
  {
   "cell_type": "code",
   "execution_count": 2,
   "id": "63844c64",
   "metadata": {},
   "outputs": [],
   "source": [
    "y_test = [0,1,1,0,0,0,1,1,1,1] #실제 정답\n",
    "y_pred = [1,0,0,0,0,0,1,1,1,1]  #예측 정답"
   ]
  },
  {
   "cell_type": "code",
   "execution_count": 3,
   "id": "3b3bc8f7",
   "metadata": {},
   "outputs": [
    {
     "data": {
      "text/plain": [
       "0.7"
      ]
     },
     "execution_count": 3,
     "metadata": {},
     "output_type": "execute_result"
    }
   ],
   "source": [
    "from sklearn.metrics import accuracy_score\n",
    "accuracy_score( y_test, y_pred )"
   ]
  },
  {
   "cell_type": "markdown",
   "id": "76340802",
   "metadata": {},
   "source": [
    "* 1:암 , 0:정상"
   ]
  },
  {
   "cell_type": "code",
   "execution_count": 4,
   "id": "ea518c62",
   "metadata": {},
   "outputs": [],
   "source": [
    "y_test = [1,1,0,1,1,1,1,1,1,1] #실제 정답\n",
    "y_pred = [0,1,1,1,1,1,1,1,1,1] #예측 정답"
   ]
  },
  {
   "cell_type": "code",
   "execution_count": 5,
   "id": "0bdc55d9",
   "metadata": {},
   "outputs": [
    {
     "data": {
      "text/plain": [
       "0.8"
      ]
     },
     "execution_count": 5,
     "metadata": {},
     "output_type": "execute_result"
    }
   ],
   "source": [
    "accuracy_score( y_test, y_pred )"
   ]
  },
  {
   "cell_type": "markdown",
   "id": "9a1f9a7b",
   "metadata": {},
   "source": [
    "#### 재현율(recall)\n",
    "* 양성(1)이 중요한 경우"
   ]
  },
  {
   "cell_type": "code",
   "execution_count": 6,
   "id": "01794552",
   "metadata": {},
   "outputs": [],
   "source": [
    "y_test = [0,0,0,1,1,1,1,1,1,1] #실제 정답\n",
    "y_pred = [1,1,1,1,1,1,1,1,1,1] #예측 정답"
   ]
  },
  {
   "cell_type": "code",
   "execution_count": 7,
   "id": "01225b46",
   "metadata": {},
   "outputs": [
    {
     "data": {
      "text/plain": [
       "1.0"
      ]
     },
     "execution_count": 7,
     "metadata": {},
     "output_type": "execute_result"
    }
   ],
   "source": [
    "from sklearn.metrics import recall_score\n",
    "recall_score( y_test, y_pred )"
   ]
  },
  {
   "cell_type": "code",
   "execution_count": 8,
   "id": "045cd1af",
   "metadata": {},
   "outputs": [],
   "source": [
    "y_test = [1,1,1,1,1,1,1,1,1,1] #실제 정답\n",
    "y_pred = [0,0,0,1,1,1,1,1,1,1] #예측 정답"
   ]
  },
  {
   "cell_type": "code",
   "execution_count": 9,
   "id": "6101c6f9",
   "metadata": {},
   "outputs": [
    {
     "data": {
      "text/plain": [
       "0.7"
      ]
     },
     "execution_count": 9,
     "metadata": {},
     "output_type": "execute_result"
    }
   ],
   "source": [
    "recall_score( y_test, y_pred )"
   ]
  },
  {
   "cell_type": "markdown",
   "id": "b4ea4eb4",
   "metadata": {},
   "source": [
    "* 스팸 : 1, 정상 : 0"
   ]
  },
  {
   "cell_type": "code",
   "execution_count": 10,
   "id": "a0636a3c",
   "metadata": {},
   "outputs": [],
   "source": [
    "y_test = [1,1,1,1,1,1,1,1,1,1] #실제 정답\n",
    "y_pred = [0,0,0,1,1,1,1,1,1,1] #예측 정답"
   ]
  },
  {
   "cell_type": "code",
   "execution_count": 11,
   "id": "98448b65",
   "metadata": {},
   "outputs": [
    {
     "data": {
      "text/plain": [
       "0.7"
      ]
     },
     "execution_count": 11,
     "metadata": {},
     "output_type": "execute_result"
    }
   ],
   "source": [
    "recall_score( y_test, y_pred )"
   ]
  },
  {
   "cell_type": "code",
   "execution_count": 12,
   "id": "2d047d49",
   "metadata": {},
   "outputs": [],
   "source": [
    "y_test = [0,0,0,1,1,1,1,1,1,1] #실제 정답\n",
    "y_pred = [1,1,1,1,1,1,1,1,1,1] #예측 정답"
   ]
  },
  {
   "cell_type": "code",
   "execution_count": 13,
   "id": "640484d7",
   "metadata": {},
   "outputs": [
    {
     "data": {
      "text/plain": [
       "1.0"
      ]
     },
     "execution_count": 13,
     "metadata": {},
     "output_type": "execute_result"
    }
   ],
   "source": [
    "recall_score( y_test, y_pred )"
   ]
  },
  {
   "cell_type": "markdown",
   "id": "d1c2f1c5",
   "metadata": {},
   "source": [
    "* 정밀도(precision)\n",
    "    - 실제 음성을 못맞추는 경우"
   ]
  },
  {
   "cell_type": "code",
   "execution_count": 14,
   "id": "894000d1",
   "metadata": {},
   "outputs": [],
   "source": [
    "y_test = [1,1,1,1,1,1,1,1,1,1] #실제 정답\n",
    "y_pred = [0,0,0,1,1,1,1,1,1,1] #예측 정답"
   ]
  },
  {
   "cell_type": "code",
   "execution_count": 15,
   "id": "55cdce35",
   "metadata": {},
   "outputs": [
    {
     "data": {
      "text/plain": [
       "1.0"
      ]
     },
     "execution_count": 15,
     "metadata": {},
     "output_type": "execute_result"
    }
   ],
   "source": [
    "from sklearn.metrics import precision_score\n",
    "precision_score( y_test, y_pred )"
   ]
  },
  {
   "cell_type": "code",
   "execution_count": 16,
   "id": "d298591b",
   "metadata": {},
   "outputs": [],
   "source": [
    "y_test = [0,0,0,1,1,1,1,1,1,1] #실제 정답\n",
    "y_pred = [1,1,1,1,1,1,1,1,1,1] #예측 정답"
   ]
  },
  {
   "cell_type": "code",
   "execution_count": 17,
   "id": "4b592217",
   "metadata": {},
   "outputs": [
    {
     "data": {
      "text/plain": [
       "0.7"
      ]
     },
     "execution_count": 17,
     "metadata": {},
     "output_type": "execute_result"
    }
   ],
   "source": [
    "precision_score( y_test, y_pred )"
   ]
  },
  {
   "cell_type": "markdown",
   "id": "33447a1e",
   "metadata": {},
   "source": [
    "* f1_score\n",
    "    - 정밀도와 재현율의 조화 평균\n",
    "    - label값이 불균등 할 경우 사용"
   ]
  },
  {
   "cell_type": "code",
   "execution_count": 18,
   "id": "2e972fbd",
   "metadata": {},
   "outputs": [],
   "source": [
    "y_test = [0,0,1,1,1,1,1,1,1,1] #실제 정답\n",
    "y_pred = [1,1,1,1,1,1,1,1,1,1] #예측 정답"
   ]
  },
  {
   "cell_type": "code",
   "execution_count": 19,
   "id": "88c593fb",
   "metadata": {},
   "outputs": [
    {
     "name": "stdout",
     "output_type": "stream",
     "text": [
      "정확도 :  0.8\n",
      "recall(재현율) :  1.0\n",
      "precision(정밀도) :  0.8\n",
      "f1 :  0.888888888888889\n"
     ]
    }
   ],
   "source": [
    "from sklearn.metrics import f1_score\n",
    "\n",
    "accuracy = accuracy_score( y_test, y_pred )\n",
    "recall = recall_score( y_test, y_pred )\n",
    "precision = precision_score( y_test, y_pred )\n",
    "f1 = f1_score( y_test, y_pred )\n",
    "\n",
    "print(\"정확도 : \", accuracy )\n",
    "print(\"recall(재현율) : \", recall )\n",
    "print(\"precision(정밀도) : \", precision )\n",
    "print(\"f1 : \", f1 )"
   ]
  },
  {
   "cell_type": "code",
   "execution_count": null,
   "id": "c541e445",
   "metadata": {},
   "outputs": [],
   "source": []
  },
  {
   "cell_type": "code",
   "execution_count": null,
   "id": "59538b2b",
   "metadata": {},
   "outputs": [],
   "source": []
  },
  {
   "cell_type": "code",
   "execution_count": null,
   "id": "345f7456",
   "metadata": {},
   "outputs": [],
   "source": []
  },
  {
   "cell_type": "code",
   "execution_count": null,
   "id": "410af76b",
   "metadata": {},
   "outputs": [],
   "source": []
  },
  {
   "cell_type": "code",
   "execution_count": null,
   "id": "e0e9e7d0",
   "metadata": {},
   "outputs": [],
   "source": []
  },
  {
   "cell_type": "code",
   "execution_count": null,
   "id": "15d2967d",
   "metadata": {},
   "outputs": [],
   "source": []
  },
  {
   "cell_type": "code",
   "execution_count": null,
   "id": "6a42e2af",
   "metadata": {},
   "outputs": [],
   "source": []
  },
  {
   "cell_type": "code",
   "execution_count": null,
   "id": "e865424c",
   "metadata": {},
   "outputs": [],
   "source": []
  },
  {
   "cell_type": "code",
   "execution_count": null,
   "id": "b6dce5e6",
   "metadata": {},
   "outputs": [],
   "source": []
  },
  {
   "cell_type": "code",
   "execution_count": null,
   "id": "fa849b26",
   "metadata": {},
   "outputs": [],
   "source": []
  },
  {
   "cell_type": "code",
   "execution_count": null,
   "id": "5c3f39bb",
   "metadata": {},
   "outputs": [],
   "source": []
  },
  {
   "cell_type": "code",
   "execution_count": null,
   "id": "fcb2d81d",
   "metadata": {},
   "outputs": [],
   "source": []
  }
 ],
 "metadata": {
  "kernelspec": {
   "display_name": "Python 3 (ipykernel)",
   "language": "python",
   "name": "python3"
  },
  "language_info": {
   "codemirror_mode": {
    "name": "ipython",
    "version": 3
   },
   "file_extension": ".py",
   "mimetype": "text/x-python",
   "name": "python",
   "nbconvert_exporter": "python",
   "pygments_lexer": "ipython3",
   "version": "3.9.13"
  },
  "toc": {
   "base_numbering": 1,
   "nav_menu": {},
   "number_sections": true,
   "sideBar": true,
   "skip_h1_title": false,
   "title_cell": "Table of Contents",
   "title_sidebar": "Contents",
   "toc_cell": false,
   "toc_position": {},
   "toc_section_display": true,
   "toc_window_display": false
  }
 },
 "nbformat": 4,
 "nbformat_minor": 5
}
